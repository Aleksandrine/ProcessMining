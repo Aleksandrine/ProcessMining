{
 "cells": [
  {
   "cell_type": "markdown",
   "metadata": {},
   "source": [
    "Importing the dataset about population, quantity of livebirths and deaths, life expactancy by Ukrainian regions in 2020"
   ]
  },
  {
   "cell_type": "code",
   "execution_count": 102,
   "metadata": {},
   "outputs": [
    {
     "name": "stdout",
     "output_type": "stream",
     "text": [
      "                  Population  Livebirth  Deaths  LifeExpect\n",
      "Region                                                     \n",
      "Vinnytska            1545416      11486   25379       72.24\n",
      "Volynska             1031421      10448   14344       71.29\n",
      "Dnipropetrovska      3176648      21309   55290       70.17\n",
      "Donetska             4131808      11036   37131       70.00\n",
      "Zhytomyrska          1208212       9151   21212       69.72\n",
      "Zakarpatska          1253791      13503   16756       70.47\n",
      "Zaporizka            1687401      10523   29388       70.83\n",
      "Іvano-Frankivska     1368097      11793   19177       72.83\n",
      "Kyjivska             1781044      14205   31481       69.72\n",
      "Kirovogradska         933109       6048   16624       70.11\n",
      "Luganska             2135913       4013   15113       70.00\n",
      "Lvivska              2512084      21129   36327       72.42\n",
      "Mykolajivska         1119862       7633   17765       71.04\n",
      "Odeska               2377230      20555   34809       71.31\n",
      "Poltavska            1386978       8629   24601       71.16\n",
      "Rivnenska            1152961      12164   15552       71.24\n",
      "Sumska               1068247       6002   18971       71.22\n",
      "Ternopilska          1038695       7846   15829       73.05\n",
      "Kharkivska           2658461      16729   44199       71.11\n",
      "Khersonska           1027913       7650   17057       70.05\n",
      "Khmelnytska          1254702       9694   20823       71.80\n",
      "Cherkaska            1192137       7223   20761       71.77\n",
      "Chernivetska          901632       8093   12636       72.81\n",
      "Chernigivska          991294       5925   19519       70.08\n"
     ]
    }
   ],
   "source": [
    "import pandas as pd\n",
    "\n",
    "\n",
    "df = pd.read_excel(\"C:/Users/user/Documents/Ukraine.xlsx\", \n",
    "                   header=  0,  \n",
    "                   usecols = \"A:E\", \n",
    "                   index_col=0, \n",
    "                   names = [\"Region\", \"Population\", \"Livebirth\", \"Deaths\",\"LifeExpect\"])\n",
    "\n",
    "print(df)"
   ]
  },
  {
   "cell_type": "markdown",
   "metadata": {},
   "source": [
    "Question 1: Which region has the largest population?"
   ]
  },
  {
   "cell_type": "code",
   "execution_count": 22,
   "metadata": {},
   "outputs": [
    {
     "data": {
      "text/plain": [
       "'Donetska'"
      ]
     },
     "execution_count": 22,
     "metadata": {},
     "output_type": "execute_result"
    }
   ],
   "source": [
    "def answer_one():\n",
    "    return df[df['Population'] == max(df['Population'])].index[0]\n",
    "answer_one()"
   ]
  },
  {
   "cell_type": "markdown",
   "metadata": {},
   "source": [
    "Question 2: Which region has the biggest natural decrease in Population?"
   ]
  },
  {
   "cell_type": "code",
   "execution_count": 26,
   "metadata": {},
   "outputs": [
    {
     "data": {
      "text/plain": [
       "'Dnipropetrovska'"
      ]
     },
     "execution_count": 26,
     "metadata": {},
     "output_type": "execute_result"
    }
   ],
   "source": [
    "def answer_two():\n",
    "    df['dec'] = abs(df['Livebirth']-df['Deaths'])\n",
    "    return df[df['dec'] == max(df['dec'])].index[0]\n",
    "answer_two()"
   ]
  },
  {
   "cell_type": "markdown",
   "metadata": {},
   "source": [
    "Question 3: Which region has the highest birth rate?"
   ]
  },
  {
   "cell_type": "code",
   "execution_count": 27,
   "metadata": {},
   "outputs": [
    {
     "data": {
      "text/plain": [
       "'Zakarpatska'"
      ]
     },
     "execution_count": 27,
     "metadata": {},
     "output_type": "execute_result"
    }
   ],
   "source": [
    "def answer_three():\n",
    "    df['rate'] = abs(df['Livebirth']/df['Population']*1000)\n",
    "    return df[df['rate'] == max(df['rate'])].index[0]\n",
    "answer_three()"
   ]
  },
  {
   "cell_type": "markdown",
   "metadata": {},
   "source": [
    "Question 4: What is the mean life expectancy in Ukraine?"
   ]
  },
  {
   "cell_type": "code",
   "execution_count": 53,
   "metadata": {},
   "outputs": [
    {
     "data": {
      "text/plain": [
       "70.9839751012558"
      ]
     },
     "execution_count": 53,
     "metadata": {},
     "output_type": "execute_result"
    }
   ],
   "source": [
    "df['Count']=df['Population']*df['LifeExpect']\n",
    "df.head()\n",
    "df['Count'].sum()/df['Population'].sum()"
   ]
  },
  {
   "cell_type": "markdown",
   "metadata": {},
   "source": [
    "Question 5: Which region has the highest death rate and what is its value?"
   ]
  },
  {
   "cell_type": "code",
   "execution_count": 57,
   "metadata": {},
   "outputs": [
    {
     "data": {
      "text/plain": [
       "('Chernigivska', 19.690424838645246)"
      ]
     },
     "execution_count": 57,
     "metadata": {},
     "output_type": "execute_result"
    }
   ],
   "source": [
    "def answer_five():\n",
    "    \n",
    "    df['deathrate'] = abs(df['Deaths']/df['Population']*1000)\n",
    "    death = df['deathrate']\n",
    "    ans = death.idxmax()\n",
    "    return (ans, death[ans])\n",
    " \n",
    "answer_five()"
   ]
  },
  {
   "cell_type": "markdown",
   "metadata": {},
   "source": [
    "Question 6: Creation of horizontal bar of population by regions."
   ]
  },
  {
   "cell_type": "code",
   "execution_count": 103,
   "metadata": {},
   "outputs": [
    {
     "data": {
      "text/plain": [
       "<AxesSubplot:title={'center':'Ukrainian population by Regions in 2020, mio'}, ylabel='Region'>"
      ]
     },
     "execution_count": 103,
     "metadata": {},
     "output_type": "execute_result"
    },
    {
     "data": {
      "image/png": "[encoded data removed]",
      "text/plain": [
       "<Figure size 432x288 with 1 Axes>"
      ]
     },
     "metadata": {
      "needs_background": "light"
     },
     "output_type": "display_data"
    }
   ],
   "source": [
    "import matplotlib.pyplot as plot\n",
    "\n",
    "new=df\n",
    "\n",
    "del new['Livebirth']\n",
    "del new['Deaths']\n",
    "del new['LifeExpect']\n",
    "\n",
    "dframe=pd.DataFrame(data=new)\n",
    "df.plot.barh(title=\"Ukrainian population by Regions in 2020, mio\")\n"
   ]
  }
 ],
 "metadata": {
  "interpreter": {
   "hash": "ad2bdc8ecc057115af97d19610ffacc2b4e99fae6737bb82f5d7fb13d2f2c186"
  },
  "kernelspec": {
   "display_name": "Python 3.9.7 ('base')",
   "language": "python",
   "name": "python3"
  },
  "language_info": {
   "codemirror_mode": {
    "name": "ipython",
    "version": 3
   },
   "file_extension": ".py",
   "mimetype": "text/x-python",
   "name": "python",
   "nbconvert_exporter": "python",
   "pygments_lexer": "ipython3",
   "version": "3.9.7"
  },
  "orig_nbformat": 4
 },
 "nbformat": 4,
 "nbformat_minor": 2
}
