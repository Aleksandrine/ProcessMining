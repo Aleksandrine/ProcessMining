{
 "cells": [
  {
   "cell_type": "markdown",
   "metadata": {},
   "source": [
    "Exercise 0 - Example"
   ]
  },
  {
   "cell_type": "code",
   "execution_count": 1,
   "metadata": {},
   "outputs": [
    {
     "data": {
      "text/plain": [
       "923521"
      ]
     },
     "execution_count": 1,
     "metadata": {},
     "output_type": "execute_result"
    }
   ],
   "source": [
    "q = 31\n",
    "q**4"
   ]
  },
  {
   "cell_type": "markdown",
   "metadata": {},
   "source": [
    "Exercise 1"
   ]
  },
  {
   "cell_type": "code",
   "execution_count": 3,
   "metadata": {},
   "outputs": [
    {
     "name": "stdout",
     "output_type": "stream",
     "text": [
      "A\n",
      "B\n",
      "C\n"
     ]
    }
   ],
   "source": [
    "#creating arbitrary list\n",
    "def f(a, *arguments):\n",
    "    print(a)\n",
    "    for arg in arguments:\n",
    "        print(arg)\n",
    "f(\"A\", \"B\", \"C\")"
   ]
  },
  {
   "cell_type": "code",
   "execution_count": 4,
   "metadata": {},
   "outputs": [
    {
     "name": "stdout",
     "output_type": "stream",
     "text": [
      "(1, 2, 3, 4, 5, 6, 7)\n"
     ]
    }
   ],
   "source": [
    "#Creating a tuple\n",
    "tup1=(1, 2, 3, 4, 5, 6, 7)\n",
    "print(tup1)"
   ]
  },
  {
   "cell_type": "code",
   "execution_count": 5,
   "metadata": {},
   "outputs": [
    {
     "name": "stdout",
     "output_type": "stream",
     "text": [
      "{1: 'Creating', 2: 'A', 3: 'Dictionary'}\n"
     ]
    }
   ],
   "source": [
    "# Creating a Dictionary\n",
    "Dict = {1: 'Creating', 2: 'A', 3: 'Dictionary'}\n",
    "print(Dict)"
   ]
  },
  {
   "cell_type": "markdown",
   "metadata": {},
   "source": [
    "Exercise 2"
   ]
  },
  {
   "cell_type": "code",
   "execution_count": 24,
   "metadata": {},
   "outputs": [],
   "source": [
    "import numpy as np\n",
    "s = np.random.normal(0,1,100)\n"
   ]
  },
  {
   "cell_type": "code",
   "execution_count": 25,
   "metadata": {},
   "outputs": [
    {
     "name": "stdout",
     "output_type": "stream",
     "text": [
      "-0.12289735189928824\n"
     ]
    }
   ],
   "source": [
    "#the 10th element\n",
    "print(s[9])"
   ]
  },
  {
   "cell_type": "code",
   "execution_count": 26,
   "metadata": {},
   "outputs": [
    {
     "name": "stdout",
     "output_type": "stream",
     "text": [
      "[-0.12289735  0.49186529  0.2644195  -1.91615208 -0.88905196  0.82999324\n",
      "  0.54624229 -0.93694851  0.36279287 -0.32470576]\n"
     ]
    }
   ],
   "source": [
    "#printing elements from 10 to 20\n",
    "print(s[9:19])"
   ]
  },
  {
   "cell_type": "code",
   "execution_count": 27,
   "metadata": {},
   "outputs": [
    {
     "name": "stdout",
     "output_type": "stream",
     "text": [
      "0.42898234374480476 1.5403952624197361 0.2272668487767887 0.41682523308416447 0.36211488695575483 0.49186528531160334 0.26441950463378505 0.829993236656178 0.546242285446207 0.3627928680237357 1.3468897984379946 1.05607877342959 1.7814011397988303 0.15979702095352516 0.5112757856167776 0.4468112322649507 0.6454802820153215 1.919733699820988 0.20312934568030033 0.05615386073576046 0.42287107147241776 0.5573368852854144 0.2947769605419628 1.8130354780600157 0.4755396305115216 0.14540885236278056 2.0045277369806365 0.5736341882829972 0.1258615048037108 0.11094460805340595 0.18623081317156584 0.39314467075390974 0.642530408280059 1.504936628658502 0.5027461757385637 0.21665046637891705 0.5223459593336198 1.0441399130138607 1.9448251792655686 1.3254619861676369 0.5414969977789639 0.4858250144960863 0.7871083071863537 1.0131937353358047 1.3671583176963467 0.276588851525604 0.6101070090281434 1.2036168110675407 0.9114194855576669 "
     ]
    }
   ],
   "source": [
    "#printing elements more than 0\n",
    "def printAbove(s, a):\n",
    "    for i in range(a):\n",
    "        if s[i] > 0:\n",
    "            print(s[i], end = \" \")\n",
    "a = len(s)\n",
    "printAbove(s, a)"
   ]
  },
  {
   "cell_type": "code",
   "execution_count": 29,
   "metadata": {},
   "outputs": [
    {
     "name": "stdout",
     "output_type": "stream",
     "text": [
      "[0.42898234 1.54039526 0.22726685 0.41682523 0.36211489 0.49186529\n",
      " 0.2644195  0.82999324 0.54624229 0.36279287 1.3468898  1.05607877\n",
      " 1.78140114 0.15979702 0.51127579 0.44681123 0.64548028 1.9197337\n",
      " 0.20312935 0.05615386 0.42287107 0.55733689 0.29477696 1.81303548\n",
      " 0.47553963 0.14540885 2.00452774 0.57363419 0.1258615  0.11094461\n",
      " 0.18623081 0.39314467 0.64253041 1.50493663 0.50274618 0.21665047\n",
      " 0.52234596 1.04413991 1.94482518 1.32546199 0.541497   0.48582501\n",
      " 0.78710831 1.01319374 1.36715832 0.27658885 0.61010701 1.20361681\n",
      " 0.91141949]\n"
     ]
    }
   ],
   "source": [
    "#2nd variant of printing elements more than 0\n",
    "print(s[s>0])"
   ]
  },
  {
   "cell_type": "markdown",
   "metadata": {},
   "source": [
    "Exercise 3"
   ]
  },
  {
   "cell_type": "code",
   "execution_count": 140,
   "metadata": {},
   "outputs": [
    {
     "name": "stdout",
     "output_type": "stream",
     "text": [
      "8\n",
      "Power is too big\n",
      "-1\n"
     ]
    }
   ],
   "source": [
    "def mypow(base,power):\n",
    "    if power<50:\n",
    "        return base**power\n",
    "    if power>=50:\n",
    "        print (\"Power is too big\")\n",
    "        return -1\n",
    "  \n",
    "\n",
    "print(mypow(2,3))\n",
    "print(mypow(2,50))"
   ]
  },
  {
   "cell_type": "markdown",
   "metadata": {},
   "source": [
    "Exercise 4"
   ]
  },
  {
   "cell_type": "code",
   "execution_count": 53,
   "metadata": {},
   "outputs": [
    {
     "name": "stdout",
     "output_type": "stream",
     "text": [
      "[ 0  1  2  3  4  5  6  7  8  9 10 11 12 13 14 15 16 17 18 19 20 21 22 23\n",
      " 24 25 26 27 28 29]\n"
     ]
    }
   ],
   "source": [
    "import numpy as np\n",
    "a=np.arange(30)\n",
    "print(a)"
   ]
  },
  {
   "cell_type": "code",
   "execution_count": 54,
   "metadata": {},
   "outputs": [
    {
     "name": "stdout",
     "output_type": "stream",
     "text": [
      "6 7 8 9 10 11 12 13 14 15 16 17 18 19 20 21 22 23 24 25 26 27 28 29 None\n"
     ]
    }
   ],
   "source": [
    "def above(x,n):\n",
    "    for i in x:\n",
    "        if x[i] > n:\n",
    "            print(x[i], end=\" \")\n",
    "            \n",
    "print(above(a, 5))\n",
    "\n",
    "       "
   ]
  },
  {
   "cell_type": "markdown",
   "metadata": {},
   "source": [
    "Exercise 5"
   ]
  },
  {
   "cell_type": "code",
   "execution_count": 87,
   "metadata": {},
   "outputs": [
    {
     "name": "stdout",
     "output_type": "stream",
     "text": [
      "[ 0  1  2  3  4  5  6  7  8  9 10 11 12 13 14 15 16 17 18 19]\n"
     ]
    }
   ],
   "source": [
    "import numpy as np\n",
    "b=np.arange(20)\n",
    "print(b)"
   ]
  },
  {
   "cell_type": "code",
   "execution_count": 88,
   "metadata": {},
   "outputs": [
    {
     "name": "stdout",
     "output_type": "stream",
     "text": [
      "[17 18 19]\n",
      "[ 0  1  2  3  4  5  6  7  8  9 10 11 12 13 14 15 16 17 18 19]\n"
     ]
    }
   ],
   "source": [
    "def my_ifelse(x,exp,n):\n",
    "    if exp == \">\":\n",
    "       return x[x>n]\n",
    "    if exp == \"<\":\n",
    "       return x[x<n]\n",
    "    if exp == \">=\":\n",
    "       return x[x>=n]\n",
    "    if exp == \"<=\":\n",
    "       return x[x<=n]\n",
    "    if exp == \"==\":\n",
    "       return x[x==n]\n",
    "    else: return x\n",
    "\n",
    "    \n",
    "print(my_ifelse(b,\">=\",17))\n",
    "print(my_ifelse(b,\"x\",3))"
   ]
  },
  {
   "cell_type": "markdown",
   "metadata": {},
   "source": [
    "Exercise 6"
   ]
  },
  {
   "cell_type": "code",
   "execution_count": 101,
   "metadata": {},
   "outputs": [
    {
     "name": "stdout",
     "output_type": "stream",
     "text": [
      "{'a': 3, 'l': 1, 'e': 1, 'k': 1, 's': 1, 'n': 1, 'd': 1, 'r': 1}\n"
     ]
    }
   ],
   "source": [
    "def counter (input_string):\n",
    "    count_letters = {}\n",
    "    for letter in input_string:\n",
    "        if letter in count_letters:\n",
    "                count_letters[letter] += 1\n",
    "        else:\n",
    "            count_letters[letter] = 1\n",
    "    return count_letters\n",
    "\n",
    "print(counter (\"aleksandra\"))"
   ]
  },
  {
   "cell_type": "markdown",
   "metadata": {},
   "source": [
    "Exercise 7"
   ]
  },
  {
   "cell_type": "code",
   "execution_count": 139,
   "metadata": {},
   "outputs": [
    {
     "name": "stdout",
     "output_type": "stream",
     "text": [
      "{'a': 3, 'd': 1, 'e': 1, 'k': 1, 'l': 1, 'n': 1, 'r': 1, 's': 1}\n",
      "{'s': 1, 'r': 1, 'n': 1, 'l': 1, 'k': 1, 'e': 1, 'd': 1, 'a': 3}\n"
     ]
    }
   ],
   "source": [
    "def counter_sorted (input_string,reverse):\n",
    "    a = {}\n",
    "    for letter in sorted(input_string,reverse=reverse):\n",
    "        if letter in a:\n",
    "                a[letter] += 1 \n",
    "        else:\n",
    "            a[letter] = 1\n",
    "    return a\n",
    "\n",
    "\n",
    "print(counter_sorted(\"aleksandra\",False))\n",
    "print(counter_sorted(\"aleksandra\",True))"
   ]
  }
 ],
 "metadata": {
  "interpreter": {
   "hash": "ad2bdc8ecc057115af97d19610ffacc2b4e99fae6737bb82f5d7fb13d2f2c186"
  },
  "kernelspec": {
   "display_name": "Python 3.9.7 ('base')",
   "language": "python",
   "name": "python3"
  },
  "language_info": {
   "codemirror_mode": {
    "name": "ipython",
    "version": 3
   },
   "file_extension": ".py",
   "mimetype": "text/x-python",
   "name": "python",
   "nbconvert_exporter": "python",
   "pygments_lexer": "ipython3",
   "version": "3.9.7"
  },
  "orig_nbformat": 4
 },
 "nbformat": 4,
 "nbformat_minor": 2
}
